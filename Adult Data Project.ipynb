{
 "cells": [
  {
   "cell_type": "code",
   "execution_count": 1,
   "id": "85814098",
   "metadata": {},
   "outputs": [],
   "source": [
    "#1 \n",
    "#import libraries\n",
    "import numpy as np\n",
    "import pandas as pd\n",
    "import matplotlib\n",
    "#print(np.__version__)\n",
    "#print(pd.__version__)\n",
    "#print(matplotlib.__version__)"
   ]
  },
  {
   "cell_type": "code",
   "execution_count": 2,
   "id": "bcfadcdc",
   "metadata": {},
   "outputs": [
    {
     "name": "stdout",
     "output_type": "stream",
     "text": [
      "   age workclass  fnlwgt     education  education.num marital.status  \\\n",
      "0   90         ?   77053       HS-grad              9        Widowed   \n",
      "1   82   Private  132870       HS-grad              9        Widowed   \n",
      "2   66         ?  186061  Some-college             10        Widowed   \n",
      "3   54   Private  140359       7th-8th              4       Divorced   \n",
      "4   41   Private  264663  Some-college             10      Separated   \n",
      "\n",
      "          occupation   relationship   race     sex  capital.gain  \\\n",
      "0                  ?  Not-in-family  White  Female             0   \n",
      "1    Exec-managerial  Not-in-family  White  Female             0   \n",
      "2                  ?      Unmarried  Black  Female             0   \n",
      "3  Machine-op-inspct      Unmarried  White  Female             0   \n",
      "4     Prof-specialty      Own-child  White  Female             0   \n",
      "\n",
      "   capital.loss  hours.per.week native.country income  \n",
      "0          4356              40  United-States  <=50K  \n",
      "1          4356              18  United-States  <=50K  \n",
      "2          4356              40  United-States  <=50K  \n",
      "3          3900              40  United-States  <=50K  \n",
      "4          3900              40  United-States  <=50K  \n"
     ]
    }
   ],
   "source": [
    "#2 \n",
    "#load data from csv file\n",
    "adults_df = pd.read_csv(\"Adult.data.csv\")\n",
    "#print first 5 rows\n",
    "print(adults_df.iloc[0:5])"
   ]
  },
  {
   "cell_type": "code",
   "execution_count": 3,
   "id": "e5185fca",
   "metadata": {},
   "outputs": [
    {
     "name": "stdout",
     "output_type": "stream",
     "text": [
      "       age workclass  fnlwgt education  education.num marital.status  \\\n",
      "32559   58   Private  151910   HS-grad              9        Widowed   \n",
      "32560   22   Private  201490   HS-grad              9  Never-married   \n",
      "\n",
      "         occupation relationship   race     sex  capital.gain  capital.loss  \\\n",
      "32559  Adm-clerical    Unmarried  White  Female             0             0   \n",
      "32560  Adm-clerical    Own-child  White    Male             0             0   \n",
      "\n",
      "       hours.per.week native.country income  \n",
      "32559              40  United-States  <=50K  \n",
      "32560              20  United-States  <=50K  \n"
     ]
    }
   ],
   "source": [
    "#2\n",
    "#print last two rows\n",
    "print(adults_df.iloc[-2:])"
   ]
  },
  {
   "cell_type": "code",
   "execution_count": 4,
   "id": "86d13955",
   "metadata": {},
   "outputs": [
    {
     "name": "stdout",
     "output_type": "stream",
     "text": [
      "Data has 32561 rows, and 15 columns\n"
     ]
    }
   ],
   "source": [
    "#2\n",
    "#display number or rows and columns\n",
    "print(\"Data has\", adults_df.shape[0], \"rows, and\", adults_df.shape[1], \"columns\")"
   ]
  },
  {
   "cell_type": "code",
   "execution_count": 5,
   "id": "704de1ed",
   "metadata": {},
   "outputs": [
    {
     "name": "stdout",
     "output_type": "stream",
     "text": [
      "   age workclass  fnlwgt education  education.num marital.status  \\\n",
      "0   90         ?   77053   HS-grad              9        Widowed   \n",
      "1   82   Private  132870   HS-grad              9        Widowed   \n",
      "\n",
      "        occupation   relationship   race     sex  capital.gain  capital.loss  \\\n",
      "0                ?  Not-in-family  White  Female             0          4356   \n",
      "1  Exec-managerial  Not-in-family  White  Female             0          4356   \n",
      "\n",
      "   hours.per.week native.country    50K  \n",
      "0              40  United-States  <=50K  \n",
      "1              18  United-States  <=50K  \n"
     ]
    }
   ],
   "source": [
    "#3\n",
    "#rename column label 'income' to '50K'\n",
    "adults_df = adults_df.rename(columns={'income':'50K'})\n",
    "#print first 2 rows\n",
    "print(adults_df.iloc[:2])"
   ]
  },
  {
   "cell_type": "code",
   "execution_count": 6,
   "id": "c16d500c",
   "metadata": {},
   "outputs": [
    {
     "name": "stdout",
     "output_type": "stream",
     "text": [
      "<class 'pandas.core.frame.DataFrame'>\n",
      "RangeIndex: 32561 entries, 0 to 32560\n",
      "Data columns (total 15 columns):\n",
      " #   Column          Non-Null Count  Dtype \n",
      "---  ------          --------------  ----- \n",
      " 0   age             32561 non-null  int64 \n",
      " 1   workclass       32561 non-null  object\n",
      " 2   fnlwgt          32561 non-null  int64 \n",
      " 3   education       32561 non-null  object\n",
      " 4   education.num   32561 non-null  int64 \n",
      " 5   marital.status  32561 non-null  object\n",
      " 6   occupation      32561 non-null  object\n",
      " 7   relationship    32561 non-null  object\n",
      " 8   race            32561 non-null  object\n",
      " 9   sex             32561 non-null  object\n",
      " 10  capital.gain    32561 non-null  int64 \n",
      " 11  capital.loss    32561 non-null  int64 \n",
      " 12  hours.per.week  32561 non-null  int64 \n",
      " 13  native.country  32561 non-null  object\n",
      " 14  50K             32561 non-null  object\n",
      "dtypes: int64(6), object(9)\n",
      "memory usage: 3.7+ MB\n"
     ]
    }
   ],
   "source": [
    "#4\n",
    "#examine data quality\n",
    "#having missing data values can lead to inaccurate results\n",
    "#in the '50K' column \">/<\" signs makes the column harder to read\n",
    "#can get the participants actual income instead. Can still sort by \n",
    "    #greater or less than 50K, or provide deeper data if needed\n",
    "#to keep unknpown values out of the dataframe can have the rows with unknown data values \n",
    "    #filtered out as they being read from the csv file\n",
    "adults_df.info()"
   ]
  },
  {
   "cell_type": "code",
   "execution_count": 7,
   "id": "db601e39",
   "metadata": {},
   "outputs": [
    {
     "name": "stdout",
     "output_type": "stream",
     "text": [
      "<bound method Series.unique of 0        90\n",
      "1        82\n",
      "2        66\n",
      "3        54\n",
      "4        41\n",
      "         ..\n",
      "32556    22\n",
      "32557    27\n",
      "32558    40\n",
      "32559    58\n",
      "32560    22\n",
      "Name: age, Length: 32561, dtype: int64>\n",
      "<bound method Series.unique of 0              ?\n",
      "1        Private\n",
      "2              ?\n",
      "3        Private\n",
      "4        Private\n",
      "          ...   \n",
      "32556    Private\n",
      "32557    Private\n",
      "32558    Private\n",
      "32559    Private\n",
      "32560    Private\n",
      "Name: workclass, Length: 32561, dtype: object>\n",
      "<bound method Series.unique of 0         77053\n",
      "1        132870\n",
      "2        186061\n",
      "3        140359\n",
      "4        264663\n",
      "          ...  \n",
      "32556    310152\n",
      "32557    257302\n",
      "32558    154374\n",
      "32559    151910\n",
      "32560    201490\n",
      "Name: fnlwgt, Length: 32561, dtype: int64>\n",
      "<bound method Series.unique of 0             HS-grad\n",
      "1             HS-grad\n",
      "2        Some-college\n",
      "3             7th-8th\n",
      "4        Some-college\n",
      "             ...     \n",
      "32556    Some-college\n",
      "32557      Assoc-acdm\n",
      "32558         HS-grad\n",
      "32559         HS-grad\n",
      "32560         HS-grad\n",
      "Name: education, Length: 32561, dtype: object>\n",
      "<bound method Series.unique of 0         9\n",
      "1         9\n",
      "2        10\n",
      "3         4\n",
      "4        10\n",
      "         ..\n",
      "32556    10\n",
      "32557    12\n",
      "32558     9\n",
      "32559     9\n",
      "32560     9\n",
      "Name: education.num, Length: 32561, dtype: int64>\n",
      "<bound method Series.unique of 0                   Widowed\n",
      "1                   Widowed\n",
      "2                   Widowed\n",
      "3                  Divorced\n",
      "4                 Separated\n",
      "                ...        \n",
      "32556         Never-married\n",
      "32557    Married-civ-spouse\n",
      "32558    Married-civ-spouse\n",
      "32559               Widowed\n",
      "32560         Never-married\n",
      "Name: marital.status, Length: 32561, dtype: object>\n",
      "<bound method Series.unique of 0                        ?\n",
      "1          Exec-managerial\n",
      "2                        ?\n",
      "3        Machine-op-inspct\n",
      "4           Prof-specialty\n",
      "               ...        \n",
      "32556      Protective-serv\n",
      "32557         Tech-support\n",
      "32558    Machine-op-inspct\n",
      "32559         Adm-clerical\n",
      "32560         Adm-clerical\n",
      "Name: occupation, Length: 32561, dtype: object>\n",
      "<bound method Series.unique of 0        Not-in-family\n",
      "1        Not-in-family\n",
      "2            Unmarried\n",
      "3            Unmarried\n",
      "4            Own-child\n",
      "             ...      \n",
      "32556    Not-in-family\n",
      "32557             Wife\n",
      "32558          Husband\n",
      "32559        Unmarried\n",
      "32560        Own-child\n",
      "Name: relationship, Length: 32561, dtype: object>\n",
      "<bound method Series.unique of 0        White\n",
      "1        White\n",
      "2        Black\n",
      "3        White\n",
      "4        White\n",
      "         ...  \n",
      "32556    White\n",
      "32557    White\n",
      "32558    White\n",
      "32559    White\n",
      "32560    White\n",
      "Name: race, Length: 32561, dtype: object>\n",
      "<bound method Series.unique of 0        Female\n",
      "1        Female\n",
      "2        Female\n",
      "3        Female\n",
      "4        Female\n",
      "          ...  \n",
      "32556      Male\n",
      "32557    Female\n",
      "32558      Male\n",
      "32559    Female\n",
      "32560      Male\n",
      "Name: sex, Length: 32561, dtype: object>\n",
      "<bound method Series.unique of 0        0\n",
      "1        0\n",
      "2        0\n",
      "3        0\n",
      "4        0\n",
      "        ..\n",
      "32556    0\n",
      "32557    0\n",
      "32558    0\n",
      "32559    0\n",
      "32560    0\n",
      "Name: capital.gain, Length: 32561, dtype: int64>\n",
      "<bound method Series.unique of 0        4356\n",
      "1        4356\n",
      "2        4356\n",
      "3        3900\n",
      "4        3900\n",
      "         ... \n",
      "32556       0\n",
      "32557       0\n",
      "32558       0\n",
      "32559       0\n",
      "32560       0\n",
      "Name: capital.loss, Length: 32561, dtype: int64>\n",
      "<bound method Series.unique of 0        40\n",
      "1        18\n",
      "2        40\n",
      "3        40\n",
      "4        40\n",
      "         ..\n",
      "32556    40\n",
      "32557    38\n",
      "32558    40\n",
      "32559    40\n",
      "32560    20\n",
      "Name: hours.per.week, Length: 32561, dtype: int64>\n",
      "<bound method Series.unique of 0        United-States\n",
      "1        United-States\n",
      "2        United-States\n",
      "3        United-States\n",
      "4        United-States\n",
      "             ...      \n",
      "32556    United-States\n",
      "32557    United-States\n",
      "32558    United-States\n",
      "32559    United-States\n",
      "32560    United-States\n",
      "Name: native.country, Length: 32561, dtype: object>\n",
      "<bound method Series.unique of 0        <=50K\n",
      "1        <=50K\n",
      "2        <=50K\n",
      "3        <=50K\n",
      "4        <=50K\n",
      "         ...  \n",
      "32556    <=50K\n",
      "32557    <=50K\n",
      "32558     >50K\n",
      "32559    <=50K\n",
      "32560    <=50K\n",
      "Name: 50K, Length: 32561, dtype: object>\n"
     ]
    }
   ],
   "source": [
    "#4\n",
    "#examine data quality\n",
    "#print data type\n",
    "#find unique values\n",
    "for col in adults_df:\n",
    "    print(adults_df[col].unique)"
   ]
  },
  {
   "cell_type": "code",
   "execution_count": 8,
   "id": "bca70af5",
   "metadata": {},
   "outputs": [
    {
     "name": "stdout",
     "output_type": "stream",
     "text": [
      "2399 data records were removed\n"
     ]
    }
   ],
   "source": [
    "#5\n",
    "#remove unknown values\n",
    "#replace \"?\" with \"NaN\", copy to new dataframe\n",
    "adults_df2 = adults_df.replace('?',np.nan)\n",
    "#remove NaN values\n",
    "adults_df2 = adults_df2.dropna()\n",
    "\n",
    "#count number of removed rows\n",
    "df_1_Count = len(adults_df)\n",
    "df_2_Count = len(adults_df2)\n",
    "print(df_1_Count - df_2_Count, \"data records were removed\")"
   ]
  },
  {
   "cell_type": "code",
   "execution_count": 9,
   "id": "db96719c",
   "metadata": {},
   "outputs": [
    {
     "data": {
      "text/html": [
       "<div>\n",
       "<style scoped>\n",
       "    .dataframe tbody tr th:only-of-type {\n",
       "        vertical-align: middle;\n",
       "    }\n",
       "\n",
       "    .dataframe tbody tr th {\n",
       "        vertical-align: top;\n",
       "    }\n",
       "\n",
       "    .dataframe thead th {\n",
       "        text-align: right;\n",
       "    }\n",
       "</style>\n",
       "<table border=\"1\" class=\"dataframe\">\n",
       "  <thead>\n",
       "    <tr style=\"text-align: right;\">\n",
       "      <th></th>\n",
       "      <th>age</th>\n",
       "      <th>fnlwgt</th>\n",
       "      <th>education.num</th>\n",
       "      <th>capital.gain</th>\n",
       "      <th>capital.loss</th>\n",
       "      <th>hours.per.week</th>\n",
       "    </tr>\n",
       "  </thead>\n",
       "  <tbody>\n",
       "    <tr>\n",
       "      <th>count</th>\n",
       "      <td>30162.00</td>\n",
       "      <td>30162.00</td>\n",
       "      <td>30162.00</td>\n",
       "      <td>30162.00</td>\n",
       "      <td>30162.00</td>\n",
       "      <td>30162.00</td>\n",
       "    </tr>\n",
       "    <tr>\n",
       "      <th>mean</th>\n",
       "      <td>38.44</td>\n",
       "      <td>189793.83</td>\n",
       "      <td>10.12</td>\n",
       "      <td>1092.01</td>\n",
       "      <td>88.37</td>\n",
       "      <td>40.93</td>\n",
       "    </tr>\n",
       "    <tr>\n",
       "      <th>std</th>\n",
       "      <td>13.13</td>\n",
       "      <td>105652.97</td>\n",
       "      <td>2.55</td>\n",
       "      <td>7406.35</td>\n",
       "      <td>404.30</td>\n",
       "      <td>11.98</td>\n",
       "    </tr>\n",
       "    <tr>\n",
       "      <th>min</th>\n",
       "      <td>17.00</td>\n",
       "      <td>13769.00</td>\n",
       "      <td>1.00</td>\n",
       "      <td>0.00</td>\n",
       "      <td>0.00</td>\n",
       "      <td>1.00</td>\n",
       "    </tr>\n",
       "    <tr>\n",
       "      <th>25%</th>\n",
       "      <td>28.00</td>\n",
       "      <td>117627.25</td>\n",
       "      <td>9.00</td>\n",
       "      <td>0.00</td>\n",
       "      <td>0.00</td>\n",
       "      <td>40.00</td>\n",
       "    </tr>\n",
       "    <tr>\n",
       "      <th>50%</th>\n",
       "      <td>37.00</td>\n",
       "      <td>178425.00</td>\n",
       "      <td>10.00</td>\n",
       "      <td>0.00</td>\n",
       "      <td>0.00</td>\n",
       "      <td>40.00</td>\n",
       "    </tr>\n",
       "    <tr>\n",
       "      <th>75%</th>\n",
       "      <td>47.00</td>\n",
       "      <td>237628.50</td>\n",
       "      <td>13.00</td>\n",
       "      <td>0.00</td>\n",
       "      <td>0.00</td>\n",
       "      <td>45.00</td>\n",
       "    </tr>\n",
       "    <tr>\n",
       "      <th>max</th>\n",
       "      <td>90.00</td>\n",
       "      <td>1484705.00</td>\n",
       "      <td>16.00</td>\n",
       "      <td>99999.00</td>\n",
       "      <td>4356.00</td>\n",
       "      <td>99.00</td>\n",
       "    </tr>\n",
       "  </tbody>\n",
       "</table>\n",
       "</div>"
      ],
      "text/plain": [
       "            age      fnlwgt  education.num  capital.gain  capital.loss  \\\n",
       "count  30162.00    30162.00       30162.00      30162.00      30162.00   \n",
       "mean      38.44   189793.83          10.12       1092.01         88.37   \n",
       "std       13.13   105652.97           2.55       7406.35        404.30   \n",
       "min       17.00    13769.00           1.00          0.00          0.00   \n",
       "25%       28.00   117627.25           9.00          0.00          0.00   \n",
       "50%       37.00   178425.00          10.00          0.00          0.00   \n",
       "75%       47.00   237628.50          13.00          0.00          0.00   \n",
       "max       90.00  1484705.00          16.00      99999.00       4356.00   \n",
       "\n",
       "       hours.per.week  \n",
       "count        30162.00  \n",
       "mean            40.93  \n",
       "std             11.98  \n",
       "min              1.00  \n",
       "25%             40.00  \n",
       "50%             40.00  \n",
       "75%             45.00  \n",
       "max             99.00  "
      ]
     },
     "execution_count": 9,
     "metadata": {},
     "output_type": "execute_result"
    }
   ],
   "source": [
    "#6\n",
    "#show numerical summary statistics\n",
    "data = adults_df2.describe(include = [np.number])\n",
    "#round data to 2 decimal places\n",
    "data.round(2)"
   ]
  },
  {
   "cell_type": "code",
   "execution_count": 10,
   "id": "1292b717",
   "metadata": {
    "scrolled": true
   },
   "outputs": [
    {
     "name": "stdout",
     "output_type": "stream",
     "text": [
      "Number of incomes below $50K: 22654 or 75.11%\n",
      "Number of incomes above $50K: 7508 or 24.89%\n"
     ]
    }
   ],
   "source": [
    "#7\n",
    "#count number of rows with income over 50K as well as those with income under 50K\n",
    "below_50K = adults_df2['50K'].value_counts()['<=50K']\n",
    "above_50K = adults_df2['50K'].value_counts()['>50K']\n",
    "\n",
    "#display results\n",
    "print(\"Number of incomes below $50K:\", below_50K, \"or\", '{below_percent:.2%}'.format(below_percent=below_50K/len(adults_df2)))\n",
    "print(\"Number of incomes above $50K:\", above_50K, \"or\", '{above_percent:.2%}'.format(above_percent=above_50K/len(adults_df2)))"
   ]
  },
  {
   "cell_type": "code",
   "execution_count": 11,
   "id": "94812663",
   "metadata": {},
   "outputs": [
    {
     "name": "stdout",
     "output_type": "stream",
     "text": [
      "Number of incomes over $50K: 7508\n",
      "Number of incomes less than $50K: 22654\n"
     ]
    }
   ],
   "source": [
    "#8\n",
    "#separate classes for analysis\n",
    "#income over 50K\n",
    "more_df = adults_df2.loc[adults_df2['50K'] == '>50K']\n",
    "print(\"Number of incomes over $50K:\", len(more_df))\n",
    "#income less than 50K\n",
    "less_df = adults_df2.loc[adults_df2['50K'] == '<=50K']\n",
    "print(\"Number of incomes less than $50K:\", len(less_df))"
   ]
  },
  {
   "cell_type": "code",
   "execution_count": 12,
   "id": "3ebe24f1",
   "metadata": {},
   "outputs": [
    {
     "data": {
      "text/plain": [
       "<AxesSubplot:>"
      ]
     },
     "execution_count": 12,
     "metadata": {},
     "output_type": "execute_result"
    },
    {
     "data": {
      "image/png": "[encoded data removed]",
      "text/plain": [
       "<Figure size 640x480 with 1 Axes>"
      ]
     },
     "metadata": {},
     "output_type": "display_data"
    }
   ],
   "source": [
    "#9\n",
    "#bar graph for marital status for more than $50K income dataframe\n",
    "more_df['marital.status'].value_counts().plot(kind='bar')"
   ]
  },
  {
   "cell_type": "code",
   "execution_count": 13,
   "id": "775deb12",
   "metadata": {},
   "outputs": [
    {
     "data": {
      "text/plain": [
       "<AxesSubplot:>"
      ]
     },
     "execution_count": 13,
     "metadata": {},
     "output_type": "execute_result"
    },
    {
     "data": {
      "image/png": "[encoded data removed]",
      "text/plain": [
       "<Figure size 640x480 with 1 Axes>"
      ]
     },
     "metadata": {},
     "output_type": "display_data"
    }
   ],
   "source": [
    "#9\n",
    "#bar graph for marital status for less than $50K income dataframe\n",
    "less_df['marital.status'].value_counts().plot(kind='bar')"
   ]
  },
  {
   "cell_type": "code",
   "execution_count": 14,
   "id": "ff7f4ec0",
   "metadata": {},
   "outputs": [],
   "source": [
    "#9\n",
    "#the marital status with the largest showing for those who earn more than $50K \n",
    "    #is 'Married-civ-spouse' with it accounting for 85% of the statuses. \n",
    "    #'Never-married', and 'Divorced' both holding 6%. And the 4 lower values \n",
    "    #accounting for an average of 2% the total statuses"
   ]
  },
  {
   "cell_type": "code",
   "execution_count": 15,
   "id": "cef7cf73",
   "metadata": {},
   "outputs": [],
   "source": [
    "#9\n",
    "#the marital status with the largest showing for those who earn less than $50K \n",
    "    #is 'Never-married' with it accounting for 40% of the statuses. \n",
    "    #'Married-civ-spouse' in second place holding 33% and 'Divorced' holding 16%. \n",
    "    #And the 4 lower values accounting for an average of 2.1% the total statuses"
   ]
  },
  {
   "cell_type": "code",
   "execution_count": 16,
   "id": "623e4ce0",
   "metadata": {},
   "outputs": [
    {
     "data": {
      "image/png": "[encoded data removed]",
      "text/plain": [
       "<Figure size 640x480 with 1 Axes>"
      ]
     },
     "metadata": {},
     "output_type": "display_data"
    }
   ],
   "source": [
    "#10\n",
    "#histogram for overall dataframe\n",
    "hist = adults_df2.age.hist(bins=10)\n",
    "#the overall dataframe show a right skewed graph"
   ]
  },
  {
   "cell_type": "code",
   "execution_count": 17,
   "id": "49e5992e",
   "metadata": {},
   "outputs": [
    {
     "data": {
      "image/png": "[encoded data removed]",
      "text/plain": [
       "<Figure size 640x480 with 1 Axes>"
      ]
     },
     "metadata": {},
     "output_type": "display_data"
    }
   ],
   "source": [
    "#10\n",
    "#histogram for earns less than $50K income dataframe\n",
    "hist = less_df.age.hist(bins=10)\n",
    "#the earns less than $50K dataframe also shows a right skewed graph"
   ]
  },
  {
   "cell_type": "code",
   "execution_count": 18,
   "id": "1a0dc168",
   "metadata": {},
   "outputs": [
    {
     "data": {
      "image/png": "[encoded data removed]",
      "text/plain": [
       "<Figure size 640x480 with 1 Axes>"
      ]
     },
     "metadata": {},
     "output_type": "display_data"
    }
   ],
   "source": [
    "#10\n",
    "#histogram for earns more than $50K income dataframe\n",
    "hist = more_df.age.hist(bins=10)\n",
    "#the earns more than $50K dataframe shows a bell shaped graph"
   ]
  }
 ],
 "metadata": {
  "kernelspec": {
   "display_name": "Python 3 (ipykernel)",
   "language": "python",
   "name": "python3"
  },
  "language_info": {
   "codemirror_mode": {
    "name": "ipython",
    "version": 3
   },
   "file_extension": ".py",
   "mimetype": "text/x-python",
   "name": "python",
   "nbconvert_exporter": "python",
   "pygments_lexer": "ipython3",
   "version": "3.9.13"
  }
 },
 "nbformat": 4,
 "nbformat_minor": 5
}
